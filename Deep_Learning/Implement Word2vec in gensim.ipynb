{
 "cells": [
  {
   "cell_type": "code",
   "execution_count": 59,
   "id": "d9901e17-f302-41ab-9629-4a3546c86263",
   "metadata": {},
   "outputs": [],
   "source": [
    "import gensim\n",
    "import pandas as pd"
   ]
  },
  {
   "cell_type": "code",
   "execution_count": 60,
   "id": "4700eac0-fd70-4eb1-b69e-ba8915a6cb81",
   "metadata": {},
   "outputs": [
    {
     "data": {
      "text/html": [
       "<div>\n",
       "<style scoped>\n",
       "    .dataframe tbody tr th:only-of-type {\n",
       "        vertical-align: middle;\n",
       "    }\n",
       "\n",
       "    .dataframe tbody tr th {\n",
       "        vertical-align: top;\n",
       "    }\n",
       "\n",
       "    .dataframe thead th {\n",
       "        text-align: right;\n",
       "    }\n",
       "</style>\n",
       "<table border=\"1\" class=\"dataframe\">\n",
       "  <thead>\n",
       "    <tr style=\"text-align: right;\">\n",
       "      <th></th>\n",
       "      <th>reviewId</th>\n",
       "      <th>userName</th>\n",
       "      <th>content</th>\n",
       "      <th>score</th>\n",
       "      <th>thumbsUpCount</th>\n",
       "      <th>reviewCreatedVersion</th>\n",
       "      <th>at</th>\n",
       "      <th>appVersion</th>\n",
       "    </tr>\n",
       "  </thead>\n",
       "  <tbody>\n",
       "    <tr>\n",
       "      <th>0</th>\n",
       "      <td>4dbe0007-d227-487e-863a-d2ecdaef9088</td>\n",
       "      <td>gladys bonet</td>\n",
       "      <td>AMAZON IS GOOD IN EVERYTHING</td>\n",
       "      <td>5</td>\n",
       "      <td>0</td>\n",
       "      <td>30.8.0.100</td>\n",
       "      <td>2025-07-16 12:29:04</td>\n",
       "      <td>30.8.0.100</td>\n",
       "    </tr>\n",
       "    <tr>\n",
       "      <th>1</th>\n",
       "      <td>3e9a3531-0fb2-43b1-93e6-2b29375252bb</td>\n",
       "      <td>Marcin Czerniawski</td>\n",
       "      <td>App ok but spam notifications are annoying</td>\n",
       "      <td>2</td>\n",
       "      <td>0</td>\n",
       "      <td>30.12.4.100</td>\n",
       "      <td>2025-07-16 12:20:17</td>\n",
       "      <td>30.12.4.100</td>\n",
       "    </tr>\n",
       "    <tr>\n",
       "      <th>2</th>\n",
       "      <td>cb3c329a-f4b9-456b-9b6a-89a7259fc70e</td>\n",
       "      <td>Mel Poxon</td>\n",
       "      <td>very good service everything gets delivered on...</td>\n",
       "      <td>5</td>\n",
       "      <td>0</td>\n",
       "      <td>30.12.4.100</td>\n",
       "      <td>2025-07-16 12:01:55</td>\n",
       "      <td>30.12.4.100</td>\n",
       "    </tr>\n",
       "    <tr>\n",
       "      <th>3</th>\n",
       "      <td>9b70c247-cfed-4bbf-b485-15536ce24801</td>\n",
       "      <td>Ulrich Johl</td>\n",
       "      <td>Amazon rocks...super quick and professional se...</td>\n",
       "      <td>5</td>\n",
       "      <td>0</td>\n",
       "      <td>30.12.4.100</td>\n",
       "      <td>2025-07-16 11:59:14</td>\n",
       "      <td>30.12.4.100</td>\n",
       "    </tr>\n",
       "    <tr>\n",
       "      <th>4</th>\n",
       "      <td>c4e4994f-2d33-49ef-8968-f9311b4e441d</td>\n",
       "      <td>Lester Nelson</td>\n",
       "      <td>Best way to shop</td>\n",
       "      <td>5</td>\n",
       "      <td>0</td>\n",
       "      <td>30.12.4.100</td>\n",
       "      <td>2025-07-16 11:51:06</td>\n",
       "      <td>30.12.4.100</td>\n",
       "    </tr>\n",
       "  </tbody>\n",
       "</table>\n",
       "</div>"
      ],
      "text/plain": [
       "                               reviewId            userName  \\\n",
       "0  4dbe0007-d227-487e-863a-d2ecdaef9088        gladys bonet   \n",
       "1  3e9a3531-0fb2-43b1-93e6-2b29375252bb  Marcin Czerniawski   \n",
       "2  cb3c329a-f4b9-456b-9b6a-89a7259fc70e           Mel Poxon   \n",
       "3  9b70c247-cfed-4bbf-b485-15536ce24801         Ulrich Johl   \n",
       "4  c4e4994f-2d33-49ef-8968-f9311b4e441d       Lester Nelson   \n",
       "\n",
       "                                             content  score  thumbsUpCount  \\\n",
       "0                       AMAZON IS GOOD IN EVERYTHING      5              0   \n",
       "1         App ok but spam notifications are annoying      2              0   \n",
       "2  very good service everything gets delivered on...      5              0   \n",
       "3  Amazon rocks...super quick and professional se...      5              0   \n",
       "4                                   Best way to shop      5              0   \n",
       "\n",
       "  reviewCreatedVersion                   at   appVersion  \n",
       "0           30.8.0.100  2025-07-16 12:29:04   30.8.0.100  \n",
       "1          30.12.4.100  2025-07-16 12:20:17  30.12.4.100  \n",
       "2          30.12.4.100  2025-07-16 12:01:55  30.12.4.100  \n",
       "3          30.12.4.100  2025-07-16 11:59:14  30.12.4.100  \n",
       "4          30.12.4.100  2025-07-16 11:51:06  30.12.4.100  "
      ]
     },
     "execution_count": 60,
     "metadata": {},
     "output_type": "execute_result"
    }
   ],
   "source": [
    "df = pd.read_csv(r\"D:\\Excel\\amazon_reviews.csv\")\n",
    "df.head()"
   ]
  },
  {
   "cell_type": "code",
   "execution_count": 61,
   "id": "1f3a9b94-bfc7-4049-b3f8-806eff5f3a8e",
   "metadata": {},
   "outputs": [
    {
     "data": {
      "text/plain": [
       "(76482, 8)"
      ]
     },
     "execution_count": 61,
     "metadata": {},
     "output_type": "execute_result"
    }
   ],
   "source": [
    "df.shape"
   ]
  },
  {
   "cell_type": "code",
   "execution_count": 62,
   "id": "670b0f4f-d277-438e-94b1-1270d8309453",
   "metadata": {},
   "outputs": [
    {
     "data": {
      "text/plain": [
       "6"
      ]
     },
     "execution_count": 62,
     "metadata": {},
     "output_type": "execute_result"
    }
   ],
   "source": [
    "df['content'].isnull().sum()"
   ]
  },
  {
   "cell_type": "code",
   "execution_count": 63,
   "id": "f0d56253-36d1-4ced-9522-9125cfdfc009",
   "metadata": {},
   "outputs": [],
   "source": [
    "df['content'] = df['content'].astype('str')"
   ]
  },
  {
   "cell_type": "code",
   "execution_count": 64,
   "id": "bbd9a572-75c8-4af3-921a-f9db8390cb87",
   "metadata": {},
   "outputs": [],
   "source": [
    "df.dropna(subset='content',inplace=True)"
   ]
  },
  {
   "cell_type": "code",
   "execution_count": 65,
   "id": "c2859889-f47d-40a7-ac40-f053ebd58b08",
   "metadata": {},
   "outputs": [
    {
     "data": {
      "text/plain": [
       "['amazon', 'is', 'good', 'in', 'everything']"
      ]
     },
     "execution_count": 65,
     "metadata": {},
     "output_type": "execute_result"
    }
   ],
   "source": [
    "gensim.utils.simple_preprocess('AMAZON IS GOOD IN EVERYTHING')"
   ]
  },
  {
   "cell_type": "code",
   "execution_count": 66,
   "id": "56215edd-79da-4e94-8ae7-fb85b0b16c65",
   "metadata": {},
   "outputs": [
    {
     "data": {
      "text/plain": [
       "0                             AMAZON IS GOOD IN EVERYTHING\n",
       "1               App ok but spam notifications are annoying\n",
       "2        very good service everything gets delivered on...\n",
       "3        Amazon rocks...super quick and professional se...\n",
       "4                                         Best way to shop\n",
       "                               ...                        \n",
       "76477    Amazon Smile donates. Make sure you get all se...\n",
       "76478    After having problems with the app and having ...\n",
       "76479    Used to be great. Got greedy, they ruined the ...\n",
       "76480    New search bar location sucks. At least give m...\n",
       "76481    for me personally I use Amazon prime due to be...\n",
       "Name: content, Length: 76482, dtype: object"
      ]
     },
     "execution_count": 66,
     "metadata": {},
     "output_type": "execute_result"
    }
   ],
   "source": [
    "df.content"
   ]
  },
  {
   "cell_type": "code",
   "execution_count": 67,
   "id": "12fc6f00-485b-43b2-a88d-ea0f13e1a19d",
   "metadata": {},
   "outputs": [
    {
     "data": {
      "text/plain": [
       "0                       [amazon, is, good, in, everything]\n",
       "1        [app, ok, but, spam, notifications, are, annoy...\n",
       "2        [very, good, service, everything, gets, delive...\n",
       "3        [amazon, rocks, super, quick, and, professiona...\n",
       "4                                    [best, way, to, shop]\n",
       "                               ...                        \n",
       "76477    [amazon, smile, donates, make, sure, you, get,...\n",
       "76478    [after, having, problems, with, the, app, and,...\n",
       "76479    [used, to, be, great, got, greedy, they, ruine...\n",
       "76480    [new, search, bar, location, sucks, at, least,...\n",
       "76481    [for, me, personally, use, amazon, prime, due,...\n",
       "Name: content, Length: 76482, dtype: object"
      ]
     },
     "execution_count": 67,
     "metadata": {},
     "output_type": "execute_result"
    }
   ],
   "source": [
    "review_text = df.content.apply(gensim.utils.simple_preprocess)\n",
    "review_text"
   ]
  },
  {
   "cell_type": "code",
   "execution_count": 73,
   "id": "2a066e47-92ed-419e-ae73-baaec708a1fb",
   "metadata": {},
   "outputs": [],
   "source": [
    "model = gensim.models.Word2Vec(window = 10, \n",
    "                               min_count=2,\n",
    "                               workers =4\n",
    ")"
   ]
  },
  {
   "cell_type": "code",
   "execution_count": 75,
   "id": "b9555280-0683-4ece-8256-b9928b463a1e",
   "metadata": {},
   "outputs": [],
   "source": [
    "model.build_vocab(review_text, progress_per=1000)"
   ]
  },
  {
   "cell_type": "code",
   "execution_count": 76,
   "id": "ea844302-a34f-4fa9-92ec-653b714b57a1",
   "metadata": {},
   "outputs": [
    {
     "data": {
      "text/plain": [
       "76482"
      ]
     },
     "execution_count": 76,
     "metadata": {},
     "output_type": "execute_result"
    }
   ],
   "source": [
    "model.corpus_count"
   ]
  },
  {
   "cell_type": "code",
   "execution_count": 77,
   "id": "5ff765de-3000-4bae-80ee-dbc2b2ead38e",
   "metadata": {},
   "outputs": [
    {
     "data": {
      "text/plain": [
       "(9384654, 12584245)"
      ]
     },
     "execution_count": 77,
     "metadata": {},
     "output_type": "execute_result"
    }
   ],
   "source": [
    "model.train(review_text,total_examples=model.corpus_count, epochs=model.epochs)"
   ]
  },
  {
   "cell_type": "code",
   "execution_count": 78,
   "id": "6ad0e26b-b936-4a5b-b91c-762a30f207a7",
   "metadata": {},
   "outputs": [
    {
     "data": {
      "text/plain": [
       "[('poor', 0.7125765085220337),\n",
       " ('disappointing', 0.6233162879943848),\n",
       " ('good', 0.5939531326293945),\n",
       " ('positive', 0.5863925814628601),\n",
       " ('pathetic', 0.5641600489616394),\n",
       " ('horrible', 0.557021975517273),\n",
       " ('terrible', 0.5521116852760315),\n",
       " ('disappointed', 0.5442502498626709),\n",
       " ('unhappy', 0.5216647386550903),\n",
       " ('unprofessional', 0.5189831852912903)]"
      ]
     },
     "execution_count": 78,
     "metadata": {},
     "output_type": "execute_result"
    }
   ],
   "source": [
    "model.wv.most_similar('bad')"
   ]
  },
  {
   "cell_type": "code",
   "execution_count": 82,
   "id": "9ab423fa-d3c2-42cf-96be-f79447c2e10d",
   "metadata": {},
   "outputs": [
    {
     "data": {
      "text/plain": [
       "0.5767224"
      ]
     },
     "execution_count": 82,
     "metadata": {},
     "output_type": "execute_result"
    }
   ],
   "source": [
    "model.wv.similarity(w1 ='poor', w2='unhappy')"
   ]
  },
  {
   "cell_type": "code",
   "execution_count": 83,
   "id": "79e3dc8c-0879-423a-904d-db3382de176e",
   "metadata": {},
   "outputs": [
    {
     "data": {
      "text/plain": [
       "0.7857986"
      ]
     },
     "execution_count": 83,
     "metadata": {},
     "output_type": "execute_result"
    }
   ],
   "source": [
    "model.wv.similarity(w1 ='good', w2='great')"
   ]
  },
  {
   "cell_type": "code",
   "execution_count": 84,
   "id": "5561e938-af81-4b2d-a3ad-ca0d85fa24c9",
   "metadata": {},
   "outputs": [
    {
     "data": {
      "text/plain": [
       "-0.08061958"
      ]
     },
     "execution_count": 84,
     "metadata": {},
     "output_type": "execute_result"
    }
   ],
   "source": [
    "model.wv.similarity(w1 ='great', w2='product')"
   ]
  },
  {
   "cell_type": "code",
   "execution_count": null,
   "id": "a7aa5c7f-025c-4220-85f2-dcb8ec6e9993",
   "metadata": {},
   "outputs": [],
   "source": []
  }
 ],
 "metadata": {
  "kernelspec": {
   "display_name": "Python 3 (ipykernel)",
   "language": "python",
   "name": "python3"
  },
  "language_info": {
   "codemirror_mode": {
    "name": "ipython",
    "version": 3
   },
   "file_extension": ".py",
   "mimetype": "text/x-python",
   "name": "python",
   "nbconvert_exporter": "python",
   "pygments_lexer": "ipython3",
   "version": "3.12.7"
  }
 },
 "nbformat": 4,
 "nbformat_minor": 5
}
